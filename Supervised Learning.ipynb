{
 "cells": [
  {
   "cell_type": "code",
   "execution_count": 300,
   "metadata": {},
   "outputs": [],
   "source": [
    "import tensorflow as tf\n",
    "import json\n",
    "import copy\n",
    "import numpy as np\n",
    "import matplotlib.pyplot as plt\n",
    "%matplotlib inline"
   ]
  },
  {
   "cell_type": "code",
   "execution_count": 312,
   "metadata": {},
   "outputs": [],
   "source": [
    "def loadMaps():\n",
    "    with open('maps1.json', 'r') as f:\n",
    "        a = json.load(f)\n",
    "    return copy.deepcopy(a)"
   ]
  },
  {
   "cell_type": "code",
   "execution_count": 313,
   "metadata": {},
   "outputs": [
    {
     "name": "stdout",
     "output_type": "stream",
     "text": [
      "[2, 1, 2, 0, 0, 2, 4, 2, 2, 2, 0, 0, 0, 0, 0, 0, 0, 0, 2, 2, 2, 0, 2, 0, 0]\n"
     ]
    }
   ],
   "source": [
    "maps = loadMaps()\n",
    "\n",
    "print(maps[\"maps\"][0])\n"
   ]
  },
  {
   "cell_type": "code",
   "execution_count": 314,
   "metadata": {
    "scrolled": true
   },
   "outputs": [
    {
     "data": {
      "text/plain": [
       "<matplotlib.image.AxesImage at 0x7f2b8a7e9828>"
      ]
     },
     "execution_count": 314,
     "metadata": {},
     "output_type": "execute_result"
    },
    {
     "data": {
      "image/png": "[encoded data removed]",
      "text/plain": [
       "<Figure size 432x288 with 1 Axes>"
      ]
     },
     "metadata": {
      "needs_background": "light"
     },
     "output_type": "display_data"
    }
   ],
   "source": [
    "plt.imshow(np.array(maps[\"maps\"][0]).reshape(5,5), cmap='gist_gray')\n"
   ]
  },
  {
   "cell_type": "code",
   "execution_count": 244,
   "metadata": {},
   "outputs": [],
   "source": [
    "def normalize(flattened):\n",
    "    for i in range(len(flattened)):\n",
    "        minimum = min(flattened)\n",
    "        maximum = max(flattened)\n",
    "        flattened[i] = (flattened[i]-minimum)/(maximum - minimum)\n",
    "        \n",
    "    return flattened\n",
    "        \n",
    "        \n",
    "        "
   ]
  },
  {
   "cell_type": "code",
   "execution_count": 245,
   "metadata": {},
   "outputs": [
    {
     "name": "stdout",
     "output_type": "stream",
     "text": [
      "[0.0, 0.5, 0.5, 0.0, 0.0, 0.0, 0.0, 0.5, 0.0, 0.5, 0.0, 0.0, 0.5, 0.0, 0.5, 0.75, 0.5, 0.5, 0.0, 0.0, 1.0, 1.0, 0.5, 0.0, 1.0]\n"
     ]
    }
   ],
   "source": [
    "normalized = []\n",
    "for i in maps[\"maps\"]:\n",
    "    normalized.append(normalize(i))\n",
    "print(normalized[0])"
   ]
  },
  {
   "cell_type": "code",
   "execution_count": 246,
   "metadata": {},
   "outputs": [],
   "source": [
    "# newMaps = {\n",
    "#     \"maps\":[],\n",
    "#     \"moves\":[]\n",
    "# }\n",
    "\n",
    "# newMaps[\"maps\"] = normalized\n",
    "# newMaps[\"moves\"] = maps[\"moves\"]\n",
    "\n",
    "# def writeMaps(maps):\n",
    "#     with open('normalizedMaps.json', 'w') as f:\n",
    "#         a = json.dump(maps, f, separators=(',', ': '), indent=4)\n",
    "# writeMaps(newMaps)"
   ]
  },
  {
   "cell_type": "code",
   "execution_count": 308,
   "metadata": {},
   "outputs": [
    {
     "name": "stderr",
     "output_type": "stream",
     "text": [
      "/home/milkylatte/anaconda3/envs/tf/lib/python3.5/site-packages/sklearn/utils/validation.py:590: DataConversionWarning: Data with input dtype int64 was converted to float64 by MinMaxScaler.\n",
      "  warnings.warn(msg, DataConversionWarning)\n"
     ]
    },
    {
     "data": {
      "text/plain": [
       "<matplotlib.image.AxesImage at 0x7f2b8a818be0>"
      ]
     },
     "execution_count": 308,
     "metadata": {},
     "output_type": "execute_result"
    },
    {
     "data": {
      "image/png": "[encoded data removed]",
      "text/plain": [
       "<Figure size 432x288 with 1 Axes>"
      ]
     },
     "metadata": {
      "needs_background": "light"
     },
     "output_type": "display_data"
    }
   ],
   "source": [
    "from sklearn.preprocessing import MinMaxScaler\n",
    "import cv2\n",
    "npMaps = np.array(maps[\"maps\"])\n",
    "scaler = MinMaxScaler()\n",
    "hey = scaler.fit_transform(npMaps[0].reshape(5,5))\n",
    "\n",
    "plt.imshow(np.array(normalized[0]).reshape(5,5),cmap='gist_gray')\n",
    "\n"
   ]
  },
  {
   "cell_type": "code",
   "execution_count": 248,
   "metadata": {},
   "outputs": [
    {
     "name": "stdout",
     "output_type": "stream",
     "text": [
      "[[0. 0. 0. 1.]\n",
      " [1. 0. 0. 0.]\n",
      " [0. 0. 0. 1.]\n",
      " ...\n",
      " [0. 0. 1. 0.]\n",
      " [0. 1. 0. 0.]\n",
      " [0. 1. 0. 0.]]\n"
     ]
    },
    {
     "name": "stderr",
     "output_type": "stream",
     "text": [
      "/home/milkylatte/anaconda3/envs/tf/lib/python3.5/site-packages/sklearn/preprocessing/_encoders.py:363: FutureWarning: The handling of integer data will change in version 0.22. Currently, the categories are determined based on the range [0, max(values)], while in the future they will be determined based on the unique values.\n",
      "If you want the future behaviour and silence this warning, you can specify \"categories='auto'\".\n",
      "In case you used a LabelEncoder before this OneHotEncoder to convert the categories to integers, then you can now use the OneHotEncoder directly.\n",
      "  warnings.warn(msg, FutureWarning)\n"
     ]
    }
   ],
   "source": [
    "from sklearn.preprocessing import OneHotEncoder\n",
    "\n",
    "npSolution = np.array(maps[\"moves\"]).reshape(len(maps[\"moves\"]), 1)\n",
    "onehot_encoder = OneHotEncoder(sparse=False)\n",
    "encoded = onehot_encoder.fit_transform(npSolution)\n",
    "\n",
    "print(encoded)\n"
   ]
  },
  {
   "cell_type": "code",
   "execution_count": 249,
   "metadata": {},
   "outputs": [],
   "source": [
    "from sklearn.model_selection import train_test_split"
   ]
  },
  {
   "cell_type": "code",
   "execution_count": 250,
   "metadata": {},
   "outputs": [],
   "source": [
    "X_train, X_test, y_train, y_test = train_test_split(np.array(normalized), encoded, test_size=0.3, random_state = 101)"
   ]
  },
  {
   "cell_type": "code",
   "execution_count": 251,
   "metadata": {},
   "outputs": [
    {
     "data": {
      "text/plain": [
       "<matplotlib.image.AxesImage at 0x7f2dc48e4a58>"
      ]
     },
     "execution_count": 251,
     "metadata": {},
     "output_type": "execute_result"
    },
    {
     "data": {
      "image/png": "[encoded data removed]",
      "text/plain": [
       "<Figure size 432x288 with 1 Axes>"
      ]
     },
     "metadata": {
      "needs_background": "light"
     },
     "output_type": "display_data"
    }
   ],
   "source": [
    "plt.imshow(X_train[3].reshape(5,5), cmap=\"gist_gray\")"
   ]
  },
  {
   "cell_type": "code",
   "execution_count": 252,
   "metadata": {},
   "outputs": [],
   "source": [
    "# x = tf.placeholder(tf.float32, shape=[None, 400])"
   ]
  },
  {
   "cell_type": "code",
   "execution_count": 253,
   "metadata": {},
   "outputs": [],
   "source": [
    "# W = tf.Variable(tf.zeros([400, 4]))"
   ]
  },
  {
   "cell_type": "code",
   "execution_count": 254,
   "metadata": {},
   "outputs": [],
   "source": [
    "# b = tf.Variable(tf.zeros([4]))"
   ]
  },
  {
   "cell_type": "code",
   "execution_count": 255,
   "metadata": {},
   "outputs": [],
   "source": [
    "# y = tf.matmul(x, W) + b"
   ]
  },
  {
   "cell_type": "code",
   "execution_count": 256,
   "metadata": {},
   "outputs": [],
   "source": [
    "# y_true = tf.placeholder(tf.float32, [None, 4])"
   ]
  },
  {
   "cell_type": "code",
   "execution_count": 257,
   "metadata": {},
   "outputs": [],
   "source": [
    "# cross_entropy = tf.reduce_mean(tf.nn.softmax_cross_entropy_with_logits(labels=y_true, logits=y))"
   ]
  },
  {
   "cell_type": "code",
   "execution_count": 258,
   "metadata": {},
   "outputs": [],
   "source": [
    "# optimizer = tf.train.GradientDescentOptimizer(learning_rate=0.001)"
   ]
  },
  {
   "cell_type": "code",
   "execution_count": 259,
   "metadata": {},
   "outputs": [],
   "source": [
    "# train = optimizer.minimize(cross_entropy)"
   ]
  },
  {
   "cell_type": "code",
   "execution_count": 260,
   "metadata": {},
   "outputs": [],
   "source": [
    "# init = tf.global_variables_initializer()"
   ]
  },
  {
   "cell_type": "code",
   "execution_count": 261,
   "metadata": {},
   "outputs": [],
   "source": [
    "# with tf.Session() as sess:\n",
    "#     sess.run(init)\n",
    "    \n",
    "#     for step in range(10000):\n",
    "#         i = np.random.randint(0, len(X_train)-100)\n",
    "#         sess.run(train, feed_dict={x: X_train[i:i+100], y_true: y_train[i:i+100]})\n",
    "        \n",
    "#     matches = tf.equal(tf.argmax(y, 1), tf.argmax(y_true, 1))\n",
    "#     acc = tf.reduce_mean(tf.cast(matches, tf.float32))\n",
    "#     print(sess.run(acc, feed_dict={x:X_test, y_true: y_test}))\n",
    "        \n",
    "        "
   ]
  },
  {
   "cell_type": "code",
   "execution_count": 262,
   "metadata": {},
   "outputs": [],
   "source": [
    "def init_weights(shape):\n",
    "    init_random_dist = tf.truncated_normal(shape, stddev=0.1)\n",
    "    return tf.Variable(init_random_dist)"
   ]
  },
  {
   "cell_type": "code",
   "execution_count": 263,
   "metadata": {},
   "outputs": [],
   "source": [
    "def init_bias(shape):\n",
    "    init_bias_vals = tf.constant(0.1, shape=shape)\n",
    "    return tf.Variable(init_bias_vals)"
   ]
  },
  {
   "cell_type": "code",
   "execution_count": 264,
   "metadata": {},
   "outputs": [],
   "source": [
    "def conv2d(x, W):\n",
    "    # x --> [batch, H, W, Channels]\n",
    "    # W --> [filter H, filter W, Channels IN, Channels OUT]\n",
    "    \n",
    "    return tf.nn.conv2d(x, W, strides=[1,1,1,1], padding='SAME')"
   ]
  },
  {
   "cell_type": "code",
   "execution_count": 265,
   "metadata": {},
   "outputs": [],
   "source": [
    "def max_pool_2by2(x):\n",
    "    # x --> [batch, h, w, c]\n",
    "    return tf.nn.max_pool(x, ksize=[1,2,2,1], strides=[1,2,2,1], padding='SAME')"
   ]
  },
  {
   "cell_type": "code",
   "execution_count": 266,
   "metadata": {},
   "outputs": [],
   "source": [
    "def convolutional_layer(input_x, shape):\n",
    "    W = init_weights(shape)\n",
    "    b = init_bias([shape[3]])\n",
    "    return tf.nn.relu(conv2d(input_x, W)+b)"
   ]
  },
  {
   "cell_type": "code",
   "execution_count": 267,
   "metadata": {},
   "outputs": [],
   "source": [
    "def normal_full_layer(input_layer, size):\n",
    "    input_size = int(input_layer.get_shape()[1])\n",
    "    W = init_weights([input_size, size])\n",
    "    b = init_bias([size])\n",
    "    return tf.matmul(input_layer, W) + b"
   ]
  },
  {
   "cell_type": "code",
   "execution_count": 268,
   "metadata": {},
   "outputs": [],
   "source": [
    "x = tf.placeholder(tf.float32, shape=[None, 25])"
   ]
  },
  {
   "cell_type": "code",
   "execution_count": 269,
   "metadata": {},
   "outputs": [],
   "source": [
    "y_true = tf.placeholder(tf.float32,shape=[None, 4])"
   ]
  },
  {
   "cell_type": "code",
   "execution_count": 270,
   "metadata": {},
   "outputs": [],
   "source": [
    "x_image = tf.reshape(x, [-1,5,5,1])"
   ]
  },
  {
   "cell_type": "code",
   "execution_count": 271,
   "metadata": {},
   "outputs": [],
   "source": [
    "convo_1 = convolutional_layer(x_image, shape=[5,5,1,25])\n",
    "#convo_1_pooling = max_pool_2by2(convo_1)"
   ]
  },
  {
   "cell_type": "code",
   "execution_count": 272,
   "metadata": {},
   "outputs": [],
   "source": [
    "convo_2 = convolutional_layer(convo_1, shape=[5,5,25,10])\n",
    "# convo_2_pooling = max_pool_2by2(convo_2)"
   ]
  },
  {
   "cell_type": "code",
   "execution_count": 273,
   "metadata": {},
   "outputs": [],
   "source": [
    "convo_2_flat = tf.reshape(convo_2,[-1,5*5*10])\n",
    "full_layer_one = tf.nn.relu(normal_full_layer(convo_2_flat, 1024))"
   ]
  },
  {
   "cell_type": "code",
   "execution_count": 274,
   "metadata": {},
   "outputs": [],
   "source": [
    "hold_prob = tf.placeholder(tf.float32)\n",
    "full_one_dropout = tf.nn.dropout(full_layer_one, keep_prob=hold_prob)"
   ]
  },
  {
   "cell_type": "code",
   "execution_count": 275,
   "metadata": {},
   "outputs": [],
   "source": [
    "y_pred = normal_full_layer(full_one_dropout, 4)"
   ]
  },
  {
   "cell_type": "code",
   "execution_count": 276,
   "metadata": {},
   "outputs": [],
   "source": [
    "cross_entropy = tf.reduce_mean(tf.nn.softmax_cross_entropy_with_logits(labels=y_true, logits=y_pred))"
   ]
  },
  {
   "cell_type": "code",
   "execution_count": 277,
   "metadata": {},
   "outputs": [],
   "source": [
    "optimizer = tf.train.AdamOptimizer(learning_rate=0.0001)\n",
    "train = optimizer.minimize(cross_entropy)"
   ]
  },
  {
   "cell_type": "code",
   "execution_count": 278,
   "metadata": {},
   "outputs": [],
   "source": [
    "init = tf.global_variables_initializer()"
   ]
  },
  {
   "cell_type": "code",
   "execution_count": 279,
   "metadata": {},
   "outputs": [],
   "source": [
    "# with tf.Session() as sess:\n",
    "#     sess.run(init)\n",
    "    \n",
    "#     for step in range(10000):\n",
    "#         i = np.random.randint(0, len(X_train)-100)\n",
    "#         sess.run(train, feed_dict={x: X_train[i:i+100], y_true: y_train[i:i+100]})\n",
    "        \n",
    "#     matches = tf.equal(tf.argmax(y, 1), tf.argmax(y_true, 1))\n",
    "#     acc = tf.reduce_mean(tf.cast(matches, tf.float32))\n",
    "#     print(sess.run(acc, feed_dict={x:X_test, y_true: y_test}))"
   ]
  },
  {
   "cell_type": "code",
   "execution_count": 280,
   "metadata": {},
   "outputs": [
    {
     "name": "stdout",
     "output_type": "stream",
     "text": [
      "ON STEP: 0\n",
      "ACCURACY: \n",
      "0.24616858\n",
      "ON STEP: 100\n",
      "ACCURACY: \n",
      "0.25\n",
      "ON STEP: 200\n",
      "ACCURACY: \n",
      "0.25191572\n",
      "ON STEP: 300\n",
      "ACCURACY: \n",
      "0.25095785\n",
      "ON STEP: 400\n",
      "ACCURACY: \n",
      "0.26819924\n",
      "ON STEP: 500\n",
      "ACCURACY: \n",
      "0.2710728\n",
      "ON STEP: 600\n",
      "ACCURACY: \n",
      "0.24233717\n",
      "ON STEP: 700\n",
      "ACCURACY: \n",
      "0.2413793\n",
      "ON STEP: 800\n",
      "ACCURACY: \n",
      "0.25191572\n",
      "ON STEP: 900\n",
      "ACCURACY: \n",
      "0.24521072\n",
      "ON STEP: 1000\n",
      "ACCURACY: \n",
      "0.25766283\n",
      "ON STEP: 1100\n",
      "ACCURACY: \n",
      "0.25478926\n",
      "ON STEP: 1200\n",
      "ACCURACY: \n",
      "0.25574714\n",
      "ON STEP: 1300\n",
      "ACCURACY: \n",
      "0.25862068\n",
      "ON STEP: 1400\n",
      "ACCURACY: \n",
      "0.2605364\n",
      "ON STEP: 1500\n",
      "ACCURACY: \n",
      "0.27969348\n",
      "ON STEP: 1600\n",
      "ACCURACY: \n",
      "0.27394637\n",
      "ON STEP: 1700\n",
      "ACCURACY: \n",
      "0.27203065\n",
      "ON STEP: 1800\n",
      "ACCURACY: \n",
      "0.27873564\n",
      "ON STEP: 1900\n",
      "ACCURACY: \n",
      "0.28256705\n",
      "ON STEP: 2000\n",
      "ACCURACY: \n",
      "0.27873564\n",
      "ON STEP: 2100\n",
      "ACCURACY: \n",
      "0.28065133\n",
      "ON STEP: 2200\n",
      "ACCURACY: \n",
      "0.28448275\n",
      "ON STEP: 2300\n",
      "ACCURACY: \n",
      "0.28735632\n",
      "ON STEP: 2400\n",
      "ACCURACY: \n",
      "0.29118773\n",
      "ON STEP: 2500\n",
      "ACCURACY: \n",
      "0.27490422\n",
      "ON STEP: 2600\n",
      "ACCURACY: \n",
      "0.28448275\n",
      "ON STEP: 2700\n",
      "ACCURACY: \n",
      "0.28544062\n",
      "ON STEP: 2800\n",
      "ACCURACY: \n",
      "0.2902299\n",
      "ON STEP: 2900\n",
      "ACCURACY: \n",
      "0.28065133\n",
      "ON STEP: 3000\n",
      "ACCURACY: \n",
      "0.2768199\n",
      "ON STEP: 3100\n",
      "ACCURACY: \n",
      "0.29980844\n",
      "ON STEP: 3200\n",
      "ACCURACY: \n",
      "0.29214558\n",
      "ON STEP: 3300\n",
      "ACCURACY: \n",
      "0.2768199\n",
      "ON STEP: 3400\n",
      "ACCURACY: \n",
      "0.29214558\n",
      "ON STEP: 3500\n",
      "ACCURACY: \n",
      "0.29310346\n",
      "ON STEP: 3600\n",
      "ACCURACY: \n",
      "0.28927204\n",
      "ON STEP: 3700\n",
      "ACCURACY: \n",
      "0.2816092\n",
      "ON STEP: 3800\n",
      "ACCURACY: \n",
      "0.28735632\n",
      "ON STEP: 3900\n",
      "ACCURACY: \n",
      "0.29501915\n",
      "ON STEP: 4000\n",
      "ACCURACY: \n",
      "0.29789272\n",
      "ON STEP: 4100\n",
      "ACCURACY: \n",
      "0.30268198\n",
      "ON STEP: 4200\n",
      "ACCURACY: \n",
      "0.29597703\n",
      "ON STEP: 4300\n",
      "ACCURACY: \n",
      "0.30363986\n",
      "ON STEP: 4400\n",
      "ACCURACY: \n",
      "0.29501915\n",
      "ON STEP: 4500\n",
      "ACCURACY: \n",
      "0.30268198\n",
      "ON STEP: 4600\n",
      "ACCURACY: \n",
      "0.31226054\n",
      "ON STEP: 4700\n",
      "ACCURACY: \n",
      "0.3170498\n",
      "ON STEP: 4800\n",
      "ACCURACY: \n",
      "0.30172414\n",
      "ON STEP: 4900\n",
      "ACCURACY: \n",
      "0.28927204\n",
      "ON STEP: 5000\n",
      "ACCURACY: \n",
      "0.3065134\n",
      "ON STEP: 5100\n",
      "ACCURACY: \n",
      "0.3113027\n",
      "ON STEP: 5200\n",
      "ACCURACY: \n",
      "0.30363986\n",
      "ON STEP: 5300\n",
      "ACCURACY: \n",
      "0.31226054\n",
      "ON STEP: 5400\n",
      "ACCURACY: \n",
      "0.32662836\n",
      "ON STEP: 5500\n",
      "ACCURACY: \n",
      "0.29693487\n",
      "ON STEP: 5600\n",
      "ACCURACY: \n",
      "0.31034482\n",
      "ON STEP: 5700\n",
      "ACCURACY: \n",
      "0.29693487\n",
      "ON STEP: 5800\n",
      "ACCURACY: \n",
      "0.31034482\n",
      "ON STEP: 5900\n",
      "ACCURACY: \n",
      "0.3007663\n",
      "ON STEP: 6000\n",
      "ACCURACY: \n",
      "0.29885057\n",
      "ON STEP: 6100\n",
      "ACCURACY: \n",
      "0.29789272\n",
      "ON STEP: 6200\n",
      "ACCURACY: \n",
      "0.3045977\n",
      "ON STEP: 6300\n",
      "ACCURACY: \n",
      "0.29980844\n",
      "ON STEP: 6400\n",
      "ACCURACY: \n",
      "0.31417623\n",
      "ON STEP: 6500\n",
      "ACCURACY: \n",
      "0.30747128\n",
      "ON STEP: 6600\n",
      "ACCURACY: \n",
      "0.30842912\n",
      "ON STEP: 6700\n",
      "ACCURACY: \n",
      "0.3007663\n",
      "ON STEP: 6800\n",
      "ACCURACY: \n",
      "0.31034482\n",
      "ON STEP: 6900\n",
      "ACCURACY: \n",
      "0.3151341\n",
      "ON STEP: 7000\n",
      "ACCURACY: \n",
      "0.30172414\n",
      "ON STEP: 7100\n",
      "ACCURACY: \n",
      "0.29693487\n",
      "ON STEP: 7200\n",
      "ACCURACY: \n",
      "0.30172414\n",
      "ON STEP: 7300\n",
      "ACCURACY: \n",
      "0.31034482\n",
      "ON STEP: 7400\n",
      "ACCURACY: \n",
      "0.31321838\n",
      "ON STEP: 7500\n",
      "ACCURACY: \n",
      "0.31034482\n",
      "ON STEP: 7600\n",
      "ACCURACY: \n",
      "0.30363986\n",
      "ON STEP: 7700\n",
      "ACCURACY: \n",
      "0.30747128\n",
      "ON STEP: 7800\n",
      "ACCURACY: \n",
      "0.30363986\n",
      "ON STEP: 7900\n",
      "ACCURACY: \n",
      "0.3218391\n",
      "ON STEP: 8000\n",
      "ACCURACY: \n",
      "0.31896552\n",
      "ON STEP: 8100\n",
      "ACCURACY: \n",
      "0.30747128\n",
      "ON STEP: 8200\n",
      "ACCURACY: \n",
      "0.30842912\n",
      "ON STEP: 8300\n",
      "ACCURACY: \n",
      "0.31226054\n",
      "ON STEP: 8400\n",
      "ACCURACY: \n",
      "0.31321838\n",
      "ON STEP: 8500\n",
      "ACCURACY: \n",
      "0.31609195\n",
      "ON STEP: 8600\n",
      "ACCURACY: \n",
      "0.3151341\n",
      "ON STEP: 8700\n",
      "ACCURACY: \n",
      "0.3170498\n",
      "ON STEP: 8800\n",
      "ACCURACY: \n",
      "0.31609195\n",
      "ON STEP: 8900\n",
      "ACCURACY: \n",
      "0.32854405\n",
      "ON STEP: 9000\n",
      "ACCURACY: \n",
      "0.3218391\n",
      "ON STEP: 9100\n",
      "ACCURACY: \n",
      "0.32088122\n",
      "ON STEP: 9200\n",
      "ACCURACY: \n",
      "0.31609195\n",
      "ON STEP: 9300\n",
      "ACCURACY: \n",
      "0.31992337\n",
      "ON STEP: 9400\n",
      "ACCURACY: \n",
      "0.3151341\n",
      "ON STEP: 9500\n",
      "ACCURACY: \n",
      "0.32662836\n",
      "ON STEP: 9600\n",
      "ACCURACY: \n",
      "0.3170498\n",
      "ON STEP: 9700\n",
      "ACCURACY: \n",
      "0.32854405\n",
      "ON STEP: 9800\n",
      "ACCURACY: \n",
      "0.3256705\n",
      "ON STEP: 9900\n",
      "ACCURACY: \n",
      "0.31896552\n"
     ]
    }
   ],
   "source": [
    "steps = 10000\n",
    "\n",
    "with tf.Session() as sess:\n",
    "    sess.run(init)\n",
    "    for j in range(steps):\n",
    "        i = np.random.randint(0, len(X_train)-10)\n",
    "\n",
    "        sess.run(train, feed_dict={x:X_train[i:i+10], y_true:y_train[i:i+10], hold_prob:0.5})\n",
    "        if j%100 == 0:\n",
    "            print(\"ON STEP: {}\".format(j))\n",
    "            print(\"ACCURACY: \")\n",
    "            \n",
    "            matches = tf.equal(tf.argmax(y_pred, 1), tf.argmax(y_true, 1))\n",
    "            acc = tf.reduce_mean(tf.cast(matches, tf.float32))\n",
    "            print(sess.run(acc, feed_dict={x:X_test[:10000], y_true:y_test[:10000], hold_prob:1.0}))"
   ]
  },
  {
   "cell_type": "code",
   "execution_count": null,
   "metadata": {},
   "outputs": [],
   "source": []
  }
 ],
 "metadata": {
  "kernelspec": {
   "display_name": "Python 3",
   "language": "python",
   "name": "python3"
  },
  "language_info": {
   "codemirror_mode": {
    "name": "ipython",
    "version": 3
   },
   "file_extension": ".py",
   "mimetype": "text/x-python",
   "name": "python",
   "nbconvert_exporter": "python",
   "pygments_lexer": "ipython3",
   "version": "3.5.6"
  }
 },
 "nbformat": 4,
 "nbformat_minor": 2
}
