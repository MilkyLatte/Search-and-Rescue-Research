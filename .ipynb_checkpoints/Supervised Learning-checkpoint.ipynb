{
 "cells": [
  {
   "cell_type": "code",
   "execution_count": 187,
   "metadata": {},
   "outputs": [],
   "source": [
    "import tensorflow as tf\n",
    "import json\n",
    "import copy\n",
    "import numpy as np\n",
    "import matplotlib.pyplot as plt\n",
    "%matplotlib inline"
   ]
  },
  {
   "cell_type": "code",
   "execution_count": 188,
   "metadata": {},
   "outputs": [],
   "source": [
    "def loadMaps():\n",
    "    with open('maps1.json', 'r') as f:\n",
    "        a = json.load(f)\n",
    "    return copy.deepcopy(a)"
   ]
  },
  {
   "cell_type": "code",
   "execution_count": 189,
   "metadata": {},
   "outputs": [
    {
     "name": "stdout",
     "output_type": "stream",
     "text": [
      "4\n"
     ]
    }
   ],
   "source": [
    "maps = loadMaps()\n",
    "\n",
    "print(maps[\"moves\"][0])\n"
   ]
  },
  {
   "cell_type": "code",
   "execution_count": 190,
   "metadata": {},
   "outputs": [
    {
     "data": {
      "text/plain": [
       "<matplotlib.image.AxesImage at 0x7f2bf1ed8eb8>"
      ]
     },
     "execution_count": 190,
     "metadata": {},
     "output_type": "execute_result"
    },
    {
     "data": {
      "image/png": "[encoded data removed]",
      "text/plain": [
       "<Figure size 432x288 with 1 Axes>"
      ]
     },
     "metadata": {
      "needs_background": "light"
     },
     "output_type": "display_data"
    }
   ],
   "source": [
    "plt.imshow(np.array(maps[\"maps\"][1]).reshape(5,5))\n"
   ]
  },
  {
   "cell_type": "code",
   "execution_count": 191,
   "metadata": {},
   "outputs": [],
   "source": [
    "def normalize(flattened):\n",
    "    for i in range(len(flattened)):\n",
    "        minimum = min(flattened)\n",
    "        maximum = max(flattened)\n",
    "        flattened[i] = (flattened[i]-minimum)/(maximum - minimum)\n",
    "        \n",
    "    return flattened\n",
    "        \n",
    "        \n",
    "        "
   ]
  },
  {
   "cell_type": "code",
   "execution_count": 192,
   "metadata": {},
   "outputs": [
    {
     "name": "stdout",
     "output_type": "stream",
     "text": [
      "[0.0, 0.5, 0.5, 0.0, 0.0, 0.0, 0.0, 0.5, 0.0, 0.5, 0.0, 0.0, 0.5, 0.0, 0.5, 0.75, 0.5, 0.5, 0.0, 0.0, 1.0, 1.0, 0.5, 0.0, 1.0]\n"
     ]
    }
   ],
   "source": [
    "normalized = []\n",
    "for i in maps[\"maps\"]:\n",
    "    normalized.append(normalize(i))\n",
    "print(normalized[0])"
   ]
  },
  {
   "cell_type": "code",
   "execution_count": 193,
   "metadata": {},
   "outputs": [],
   "source": [
    "# newMaps = {\n",
    "#     \"maps\":[],\n",
    "#     \"moves\":[]\n",
    "# }\n",
    "\n",
    "# newMaps[\"maps\"] = normalized\n",
    "# newMaps[\"moves\"] = maps[\"moves\"]\n",
    "\n",
    "# def writeMaps(maps):\n",
    "#     with open('normalizedMaps.json', 'w') as f:\n",
    "#         a = json.dump(maps, f, separators=(',', ': '), indent=4)\n",
    "# writeMaps(newMaps)"
   ]
  },
  {
   "cell_type": "code",
   "execution_count": 194,
   "metadata": {},
   "outputs": [
    {
     "data": {
      "text/plain": [
       "<matplotlib.image.AxesImage at 0x7f2dc48a79b0>"
      ]
     },
     "execution_count": 194,
     "metadata": {},
     "output_type": "execute_result"
    },
    {
     "data": {
      "image/png": "[encoded data removed]",
      "text/plain": [
       "<Figure size 432x288 with 1 Axes>"
      ]
     },
     "metadata": {
      "needs_background": "light"
     },
     "output_type": "display_data"
    }
   ],
   "source": [
    "from sklearn.preprocessing import MinMaxScaler\n",
    "import cv2\n",
    "npMaps = np.array(maps[\"maps\"])\n",
    "scaler = MinMaxScaler()\n",
    "hey = scaler.fit_transform(npMaps[0].reshape(5,5))\n",
    "\n",
    "plt.imshow(np.array(normalized[0]).reshape(5,5),cmap='gist_gray')\n",
    "\n"
   ]
  },
  {
   "cell_type": "code",
   "execution_count": 195,
   "metadata": {},
   "outputs": [
    {
     "name": "stdout",
     "output_type": "stream",
     "text": [
      "[[0. 0. 0. 1.]\n",
      " [1. 0. 0. 0.]\n",
      " [0. 0. 0. 1.]\n",
      " ...\n",
      " [0. 0. 1. 0.]\n",
      " [0. 1. 0. 0.]\n",
      " [0. 1. 0. 0.]]\n"
     ]
    },
    {
     "name": "stderr",
     "output_type": "stream",
     "text": [
      "/home/milkylatte/anaconda3/envs/tf/lib/python3.5/site-packages/sklearn/preprocessing/_encoders.py:363: FutureWarning: The handling of integer data will change in version 0.22. Currently, the categories are determined based on the range [0, max(values)], while in the future they will be determined based on the unique values.\n",
      "If you want the future behaviour and silence this warning, you can specify \"categories='auto'\".\n",
      "In case you used a LabelEncoder before this OneHotEncoder to convert the categories to integers, then you can now use the OneHotEncoder directly.\n",
      "  warnings.warn(msg, FutureWarning)\n"
     ]
    }
   ],
   "source": [
    "from sklearn.preprocessing import OneHotEncoder\n",
    "\n",
    "npSolution = np.array(maps[\"moves\"]).reshape(len(maps[\"moves\"]), 1)\n",
    "onehot_encoder = OneHotEncoder(sparse=False)\n",
    "encoded = onehot_encoder.fit_transform(npSolution)\n",
    "\n",
    "print(encoded)\n"
   ]
  },
  {
   "cell_type": "code",
   "execution_count": 196,
   "metadata": {},
   "outputs": [],
   "source": [
    "from sklearn.model_selection import train_test_split"
   ]
  },
  {
   "cell_type": "code",
   "execution_count": 197,
   "metadata": {},
   "outputs": [],
   "source": [
    "X_train, X_test, y_train, y_test = train_test_split(np.array(normalized), encoded, test_size=0.3, random_state = 101)"
   ]
  },
  {
   "cell_type": "code",
   "execution_count": 198,
   "metadata": {},
   "outputs": [
    {
     "data": {
      "text/plain": [
       "<matplotlib.image.AxesImage at 0x7f2dc485d5c0>"
      ]
     },
     "execution_count": 198,
     "metadata": {},
     "output_type": "execute_result"
    },
    {
     "data": {
      "image/png": "[encoded data removed]",
      "text/plain": [
       "<Figure size 432x288 with 1 Axes>"
      ]
     },
     "metadata": {
      "needs_background": "light"
     },
     "output_type": "display_data"
    }
   ],
   "source": [
    "plt.imshow(X_train[3].reshape(5,5), cmap=\"gist_gray\")"
   ]
  },
  {
   "cell_type": "code",
   "execution_count": 199,
   "metadata": {},
   "outputs": [],
   "source": [
    "# x = tf.placeholder(tf.float32, shape=[None, 400])"
   ]
  },
  {
   "cell_type": "code",
   "execution_count": 200,
   "metadata": {},
   "outputs": [],
   "source": [
    "# W = tf.Variable(tf.zeros([400, 4]))"
   ]
  },
  {
   "cell_type": "code",
   "execution_count": 201,
   "metadata": {},
   "outputs": [],
   "source": [
    "# b = tf.Variable(tf.zeros([4]))"
   ]
  },
  {
   "cell_type": "code",
   "execution_count": 202,
   "metadata": {},
   "outputs": [],
   "source": [
    "# y = tf.matmul(x, W) + b"
   ]
  },
  {
   "cell_type": "code",
   "execution_count": 203,
   "metadata": {},
   "outputs": [],
   "source": [
    "# y_true = tf.placeholder(tf.float32, [None, 4])"
   ]
  },
  {
   "cell_type": "code",
   "execution_count": 204,
   "metadata": {},
   "outputs": [],
   "source": [
    "# cross_entropy = tf.reduce_mean(tf.nn.softmax_cross_entropy_with_logits(labels=y_true, logits=y))"
   ]
  },
  {
   "cell_type": "code",
   "execution_count": 205,
   "metadata": {},
   "outputs": [],
   "source": [
    "# optimizer = tf.train.GradientDescentOptimizer(learning_rate=0.001)"
   ]
  },
  {
   "cell_type": "code",
   "execution_count": 206,
   "metadata": {},
   "outputs": [],
   "source": [
    "# train = optimizer.minimize(cross_entropy)"
   ]
  },
  {
   "cell_type": "code",
   "execution_count": 207,
   "metadata": {},
   "outputs": [],
   "source": [
    "# init = tf.global_variables_initializer()"
   ]
  },
  {
   "cell_type": "code",
   "execution_count": 208,
   "metadata": {},
   "outputs": [],
   "source": [
    "# with tf.Session() as sess:\n",
    "#     sess.run(init)\n",
    "    \n",
    "#     for step in range(10000):\n",
    "#         i = np.random.randint(0, len(X_train)-100)\n",
    "#         sess.run(train, feed_dict={x: X_train[i:i+100], y_true: y_train[i:i+100]})\n",
    "        \n",
    "#     matches = tf.equal(tf.argmax(y, 1), tf.argmax(y_true, 1))\n",
    "#     acc = tf.reduce_mean(tf.cast(matches, tf.float32))\n",
    "#     print(sess.run(acc, feed_dict={x:X_test, y_true: y_test}))\n",
    "        \n",
    "        "
   ]
  },
  {
   "cell_type": "code",
   "execution_count": 209,
   "metadata": {},
   "outputs": [],
   "source": [
    "def init_weights(shape):\n",
    "    init_random_dist = tf.truncated_normal(shape, stddev=0.1)\n",
    "    return tf.Variable(init_random_dist)"
   ]
  },
  {
   "cell_type": "code",
   "execution_count": 210,
   "metadata": {},
   "outputs": [],
   "source": [
    "def init_bias(shape):\n",
    "    init_bias_vals = tf.constant(0.1, shape=shape)\n",
    "    return tf.Variable(init_bias_vals)"
   ]
  },
  {
   "cell_type": "code",
   "execution_count": 211,
   "metadata": {},
   "outputs": [],
   "source": [
    "def conv2d(x, W):\n",
    "    # x --> [batch, H, W, Channels]\n",
    "    # W --> [filter H, filter W, Channels IN, Channels OUT]\n",
    "    \n",
    "    return tf.nn.conv2d(x, W, strides=[1,1,1,1], padding='SAME')"
   ]
  },
  {
   "cell_type": "code",
   "execution_count": 212,
   "metadata": {},
   "outputs": [],
   "source": [
    "def max_pool_2by2(x):\n",
    "    # x --> [batch, h, w, c]\n",
    "    return tf.nn.max_pool(x, ksize=[1,2,2,1], strides=[1,2,2,1], padding='SAME')"
   ]
  },
  {
   "cell_type": "code",
   "execution_count": 213,
   "metadata": {},
   "outputs": [],
   "source": [
    "def convolutional_layer(input_x, shape):\n",
    "    W = init_weights(shape)\n",
    "    b = init_bias([shape[3]])\n",
    "    return tf.nn.relu(conv2d(input_x, W)+b)"
   ]
  },
  {
   "cell_type": "code",
   "execution_count": 214,
   "metadata": {},
   "outputs": [],
   "source": [
    "def normal_full_layer(input_layer, size):\n",
    "    input_size = int(input_layer.get_shape()[1])\n",
    "    W = init_weights([input_size, size])\n",
    "    b = init_bias([size])\n",
    "    return tf.matmul(input_layer, W) + b"
   ]
  },
  {
   "cell_type": "code",
   "execution_count": 215,
   "metadata": {},
   "outputs": [],
   "source": [
    "x = tf.placeholder(tf.float32, shape=[None, 25])"
   ]
  },
  {
   "cell_type": "code",
   "execution_count": 216,
   "metadata": {},
   "outputs": [],
   "source": [
    "y_true = tf.placeholder(tf.float32,shape=[None, 4])"
   ]
  },
  {
   "cell_type": "code",
   "execution_count": 217,
   "metadata": {},
   "outputs": [],
   "source": [
    "x_image = tf.reshape(x, [-1,5,5,1])"
   ]
  },
  {
   "cell_type": "code",
   "execution_count": 218,
   "metadata": {},
   "outputs": [],
   "source": [
    "convo_1 = convolutional_layer(x_image, shape=[5,5,1,25])\n",
    "#convo_1_pooling = max_pool_2by2(convo_1)"
   ]
  },
  {
   "cell_type": "code",
   "execution_count": 219,
   "metadata": {},
   "outputs": [],
   "source": [
    "convo_2 = convolutional_layer(convo_1, shape=[5,5,25,10])\n",
    "# convo_2_pooling = max_pool_2by2(convo_2)"
   ]
  },
  {
   "cell_type": "code",
   "execution_count": 220,
   "metadata": {},
   "outputs": [],
   "source": [
    "convo_2_flat = tf.reshape(convo_2,[-1,5*5*10])\n",
    "full_layer_one = tf.nn.relu(normal_full_layer(convo_2_flat, 1024))"
   ]
  },
  {
   "cell_type": "code",
   "execution_count": 221,
   "metadata": {},
   "outputs": [],
   "source": [
    "hold_prob = tf.placeholder(tf.float32)\n",
    "full_one_dropout = tf.nn.dropout(full_layer_one, keep_prob=hold_prob)"
   ]
  },
  {
   "cell_type": "code",
   "execution_count": 222,
   "metadata": {},
   "outputs": [],
   "source": [
    "y_pred = normal_full_layer(full_one_dropout, 4)"
   ]
  },
  {
   "cell_type": "code",
   "execution_count": 223,
   "metadata": {},
   "outputs": [],
   "source": [
    "cross_entropy = tf.reduce_mean(tf.nn.softmax_cross_entropy_with_logits(labels=y_true, logits=y_pred))"
   ]
  },
  {
   "cell_type": "code",
   "execution_count": 224,
   "metadata": {},
   "outputs": [],
   "source": [
    "optimizer = tf.train.AdamOptimizer(learning_rate=0.01)\n",
    "train = optimizer.minimize(cross_entropy)"
   ]
  },
  {
   "cell_type": "code",
   "execution_count": 225,
   "metadata": {},
   "outputs": [],
   "source": [
    "init = tf.global_variables_initializer()"
   ]
  },
  {
   "cell_type": "code",
   "execution_count": 226,
   "metadata": {},
   "outputs": [],
   "source": [
    "# with tf.Session() as sess:\n",
    "#     sess.run(init)\n",
    "    \n",
    "#     for step in range(10000):\n",
    "#         i = np.random.randint(0, len(X_train)-100)\n",
    "#         sess.run(train, feed_dict={x: X_train[i:i+100], y_true: y_train[i:i+100]})\n",
    "        \n",
    "#     matches = tf.equal(tf.argmax(y, 1), tf.argmax(y_true, 1))\n",
    "#     acc = tf.reduce_mean(tf.cast(matches, tf.float32))\n",
    "#     print(sess.run(acc, feed_dict={x:X_test, y_true: y_test}))"
   ]
  },
  {
   "cell_type": "code",
   "execution_count": 229,
   "metadata": {},
   "outputs": [
    {
     "name": "stdout",
     "output_type": "stream",
     "text": [
      "ON STEP: 0\n",
      "ACCURACY: \n",
      "0.24233717\n",
      "ON STEP: 100\n",
      "ACCURACY: \n",
      "0.29789272\n",
      "ON STEP: 200\n",
      "ACCURACY: \n",
      "0.3151341\n",
      "ON STEP: 300\n",
      "ACCURACY: \n",
      "0.3400383\n",
      "ON STEP: 400\n",
      "ACCURACY: \n",
      "0.3381226\n",
      "ON STEP: 500\n",
      "ACCURACY: \n",
      "0.33333334\n",
      "ON STEP: 600\n",
      "ACCURACY: \n",
      "0.33524904\n",
      "ON STEP: 700\n",
      "ACCURACY: \n",
      "0.34099618\n",
      "ON STEP: 800\n",
      "ACCURACY: \n",
      "0.33908045\n",
      "ON STEP: 900\n",
      "ACCURACY: \n",
      "0.34291187\n",
      "ON STEP: 1000\n",
      "ACCURACY: \n",
      "0.3342912\n",
      "ON STEP: 1100\n",
      "ACCURACY: \n",
      "0.33620688\n",
      "ON STEP: 1200\n",
      "ACCURACY: \n",
      "0.33237547\n",
      "ON STEP: 1300\n",
      "ACCURACY: \n",
      "0.3381226\n",
      "ON STEP: 1400\n",
      "ACCURACY: \n",
      "0.3381226\n",
      "ON STEP: 1500\n",
      "ACCURACY: \n",
      "0.33620688\n",
      "ON STEP: 1600\n",
      "ACCURACY: \n",
      "0.34578544\n",
      "ON STEP: 1700\n",
      "ACCURACY: \n",
      "0.33908045\n",
      "ON STEP: 1800\n",
      "ACCURACY: \n",
      "0.33908045\n",
      "ON STEP: 1900\n",
      "ACCURACY: \n",
      "0.3275862\n",
      "ON STEP: 2000\n",
      "ACCURACY: \n",
      "0.34099618\n",
      "ON STEP: 2100\n",
      "ACCURACY: \n",
      "0.34099618\n",
      "ON STEP: 2200\n",
      "ACCURACY: \n",
      "0.3381226\n",
      "ON STEP: 2300\n",
      "ACCURACY: \n",
      "0.34386975\n",
      "ON STEP: 2400\n",
      "ACCURACY: \n",
      "0.34578544\n",
      "ON STEP: 2500\n",
      "ACCURACY: \n",
      "0.33141762\n",
      "ON STEP: 2600\n",
      "ACCURACY: \n",
      "0.34099618\n",
      "ON STEP: 2700\n",
      "ACCURACY: \n",
      "0.3400383\n",
      "ON STEP: 2800\n",
      "ACCURACY: \n",
      "0.34386975\n",
      "ON STEP: 2900\n",
      "ACCURACY: \n",
      "0.32950193\n",
      "ON STEP: 3000\n",
      "ACCURACY: \n",
      "0.33333334\n",
      "ON STEP: 3100\n",
      "ACCURACY: \n",
      "0.348659\n",
      "ON STEP: 3200\n",
      "ACCURACY: \n",
      "0.33620688\n",
      "ON STEP: 3300\n",
      "ACCURACY: \n",
      "0.33908045\n",
      "ON STEP: 3400\n",
      "ACCURACY: \n",
      "0.33237547\n",
      "ON STEP: 3500\n",
      "ACCURACY: \n",
      "0.3400383\n",
      "ON STEP: 3600\n",
      "ACCURACY: \n",
      "0.34291187\n",
      "ON STEP: 3700\n",
      "ACCURACY: \n",
      "0.33620688\n",
      "ON STEP: 3800\n",
      "ACCURACY: \n",
      "0.3400383\n",
      "ON STEP: 3900\n",
      "ACCURACY: \n",
      "0.3448276\n",
      "ON STEP: 4000\n",
      "ACCURACY: \n",
      "0.33620688\n",
      "ON STEP: 4100\n",
      "ACCURACY: \n",
      "0.3505747\n",
      "ON STEP: 4200\n",
      "ACCURACY: \n",
      "0.3467433\n",
      "ON STEP: 4300\n",
      "ACCURACY: \n",
      "0.34578544\n",
      "ON STEP: 4400\n",
      "ACCURACY: \n",
      "0.35153258\n",
      "ON STEP: 4500\n",
      "ACCURACY: \n",
      "0.34291187\n",
      "ON STEP: 4600\n",
      "ACCURACY: \n",
      "0.3467433\n",
      "ON STEP: 4700\n",
      "ACCURACY: \n",
      "0.34195402\n",
      "ON STEP: 4800\n",
      "ACCURACY: \n",
      "0.34578544\n",
      "ON STEP: 4900\n",
      "ACCURACY: \n",
      "0.34386975\n",
      "ON STEP: 5000\n",
      "ACCURACY: \n",
      "0.34195402\n",
      "ON STEP: 5100\n",
      "ACCURACY: \n",
      "0.34099618\n",
      "ON STEP: 5200\n",
      "ACCURACY: \n",
      "0.35344827\n",
      "ON STEP: 5300\n",
      "ACCURACY: \n",
      "0.35249043\n",
      "ON STEP: 5400\n",
      "ACCURACY: \n",
      "0.34770116\n",
      "ON STEP: 5500\n",
      "ACCURACY: \n",
      "0.35153258\n",
      "ON STEP: 5600\n",
      "ACCURACY: \n",
      "0.35153258\n",
      "ON STEP: 5700\n",
      "ACCURACY: \n",
      "0.3467433\n",
      "ON STEP: 5800\n",
      "ACCURACY: \n",
      "0.3400383\n",
      "ON STEP: 5900\n",
      "ACCURACY: \n",
      "0.33716476\n",
      "ON STEP: 6000\n",
      "ACCURACY: \n",
      "0.36398467\n",
      "ON STEP: 6100\n",
      "ACCURACY: \n",
      "0.33908045\n",
      "ON STEP: 6200\n",
      "ACCURACY: \n",
      "0.3505747\n",
      "ON STEP: 6300\n",
      "ACCURACY: \n",
      "0.33524904\n",
      "ON STEP: 6400\n",
      "ACCURACY: \n",
      "0.33908045\n",
      "ON STEP: 6500\n",
      "ACCURACY: \n",
      "0.33333334\n",
      "ON STEP: 6600\n",
      "ACCURACY: \n",
      "0.3448276\n",
      "ON STEP: 6700\n",
      "ACCURACY: \n",
      "0.34770116\n",
      "ON STEP: 6800\n",
      "ACCURACY: \n",
      "0.34099618\n",
      "ON STEP: 6900\n",
      "ACCURACY: \n",
      "0.34195402\n",
      "ON STEP: 7000\n",
      "ACCURACY: \n",
      "0.33620688\n",
      "ON STEP: 7100\n",
      "ACCURACY: \n",
      "0.33908045\n",
      "ON STEP: 7200\n",
      "ACCURACY: \n",
      "0.33908045\n",
      "ON STEP: 7300\n",
      "ACCURACY: \n",
      "0.33716476\n",
      "ON STEP: 7400\n",
      "ACCURACY: \n",
      "0.3448276\n",
      "ON STEP: 7500\n",
      "ACCURACY: \n",
      "0.3448276\n",
      "ON STEP: 7600\n",
      "ACCURACY: \n",
      "0.34578544\n",
      "ON STEP: 7700\n",
      "ACCURACY: \n",
      "0.34291187\n",
      "ON STEP: 7800\n",
      "ACCURACY: \n",
      "0.3448276\n",
      "ON STEP: 7900\n",
      "ACCURACY: \n",
      "0.3400383\n",
      "ON STEP: 8000\n",
      "ACCURACY: \n",
      "0.34386975\n",
      "ON STEP: 8100\n",
      "ACCURACY: \n",
      "0.33524904\n",
      "ON STEP: 8200\n",
      "ACCURACY: \n",
      "0.34770116\n",
      "ON STEP: 8300\n",
      "ACCURACY: \n",
      "0.3467433\n",
      "ON STEP: 8400\n",
      "ACCURACY: \n",
      "0.34961686\n",
      "ON STEP: 8500\n",
      "ACCURACY: \n",
      "0.34770116\n",
      "ON STEP: 8600\n",
      "ACCURACY: \n",
      "0.36015326\n",
      "ON STEP: 8700\n",
      "ACCURACY: \n",
      "0.34770116\n",
      "ON STEP: 8800\n",
      "ACCURACY: \n",
      "0.35153258\n",
      "ON STEP: 8900\n",
      "ACCURACY: \n",
      "0.34961686\n",
      "ON STEP: 9000\n",
      "ACCURACY: \n",
      "0.3467433\n",
      "ON STEP: 9100\n",
      "ACCURACY: \n",
      "0.34386975\n",
      "ON STEP: 9200\n",
      "ACCURACY: \n",
      "0.35249043\n",
      "ON STEP: 9300\n",
      "ACCURACY: \n",
      "0.35249043\n",
      "ON STEP: 9400\n",
      "ACCURACY: \n",
      "0.34291187\n",
      "ON STEP: 9500\n",
      "ACCURACY: \n",
      "0.34961686\n",
      "ON STEP: 9600\n",
      "ACCURACY: \n",
      "0.3448276\n",
      "ON STEP: 9700\n",
      "ACCURACY: \n",
      "0.3400383\n",
      "ON STEP: 9800\n",
      "ACCURACY: \n",
      "0.3505747\n",
      "ON STEP: 9900\n",
      "ACCURACY: \n",
      "0.35153258\n"
     ]
    }
   ],
   "source": [
    "steps = 10000\n",
    "\n",
    "with tf.Session() as sess:\n",
    "    sess.run(init)\n",
    "    for j in range(steps):\n",
    "        i = np.random.randint(0, len(X_train)-1000)\n",
    "\n",
    "        sess.run(train, feed_dict={x:X_train[i:i+1000], y_true:y_train[i:i+1000], hold_prob:0.5})\n",
    "        if j%100 == 0:\n",
    "            print(\"ON STEP: {}\".format(j))\n",
    "            print(\"ACCURACY: \")\n",
    "            \n",
    "            matches = tf.equal(tf.argmax(y_pred, 1), tf.argmax(y_true, 1))\n",
    "            acc = tf.reduce_mean(tf.cast(matches, tf.float32))\n",
    "            print(sess.run(acc, feed_dict={x:X_test[:10000], y_true:y_test[:10000], hold_prob:1.0}))"
   ]
  }
 ],
 "metadata": {
  "kernelspec": {
   "display_name": "Python 3",
   "language": "python",
   "name": "python3"
  },
  "language_info": {
   "codemirror_mode": {
    "name": "ipython",
    "version": 3
   },
   "file_extension": ".py",
   "mimetype": "text/x-python",
   "name": "python",
   "nbconvert_exporter": "python",
   "pygments_lexer": "ipython3",
   "version": "3.5.6"
  }
 },
 "nbformat": 4,
 "nbformat_minor": 2
}
